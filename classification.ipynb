{
 "cells": [
  {
   "cell_type": "markdown",
   "metadata": {},
   "source": [
    "# Classification"
   ]
  },
  {
   "cell_type": "markdown",
   "metadata": {},
   "source": []
  },
  {
   "cell_type": "markdown",
   "metadata": {},
   "source": [
    "## Importing DataSet"
   ]
  },
  {
   "cell_type": "code",
   "execution_count": 1,
   "metadata": {},
   "outputs": [
    {
     "name": "stdout",
     "output_type": "stream",
     "text": [
      "<class 'pandas.core.frame.DataFrame'>\n",
      "RangeIndex: 6497 entries, 0 to 6496\n",
      "Data columns (total 13 columns):\n",
      "type                    6497 non-null object\n",
      "fixed acidity           6487 non-null float64\n",
      "volatile acidity        6489 non-null float64\n",
      "citric acid             6494 non-null float64\n",
      "residual sugar          6495 non-null float64\n",
      "chlorides               6495 non-null float64\n",
      "free sulfur dioxide     6497 non-null float64\n",
      "total sulfur dioxide    6497 non-null float64\n",
      "density                 6497 non-null float64\n",
      "pH                      6488 non-null float64\n",
      "sulphates               6493 non-null float64\n",
      "alcohol                 6497 non-null float64\n",
      "quality                 6497 non-null int64\n",
      "dtypes: float64(11), int64(1), object(1)\n",
      "memory usage: 659.9+ KB\n"
     ]
    }
   ],
   "source": [
    "import pandas as pd\n",
    "import matplotlib.pyplot as plt\n",
    "import seaborn as sns\n",
    "wine_data = pd.read_csv(\"wineData.csv\")\n",
    "wine_data.info()"
   ]
  },
  {
   "cell_type": "markdown",
   "metadata": {},
   "source": [
    "## Cleaning the Dataset"
   ]
  },
  {
   "cell_type": "code",
   "execution_count": 2,
   "metadata": {},
   "outputs": [
    {
     "name": "stdout",
     "output_type": "stream",
     "text": [
      "<class 'pandas.core.frame.DataFrame'>\n",
      "RangeIndex: 6497 entries, 0 to 6496\n",
      "Data columns (total 13 columns):\n",
      "type                    6497 non-null object\n",
      "fixed acidity           6497 non-null float64\n",
      "volatile acidity        6497 non-null float64\n",
      "citric acid             6497 non-null float64\n",
      "residual sugar          6497 non-null float64\n",
      "chlorides               6497 non-null float64\n",
      "free sulfur dioxide     6497 non-null float64\n",
      "total sulfur dioxide    6497 non-null float64\n",
      "density                 6497 non-null float64\n",
      "pH                      6497 non-null float64\n",
      "sulphates               6497 non-null float64\n",
      "alcohol                 6497 non-null float64\n",
      "quality                 6497 non-null int64\n",
      "dtypes: float64(11), int64(1), object(1)\n",
      "memory usage: 659.9+ KB\n"
     ]
    }
   ],
   "source": [
    "wineDf = wine_data.copy()\n",
    "\n",
    "fixed_acidity_mean = wineDf[\"fixed acidity\"].mean()\n",
    "volatile_acidity_mean = wineDf[\"volatile acidity\"].mean()\n",
    "citric_acid_mean = wineDf[\"citric acid\"].mean()\n",
    "chlorides_mean = wineDf[\"chlorides\"].mean()\n",
    "residual_sugar_mean = wineDf[\"residual sugar\"].mean()\n",
    "pH_mean = wineDf[\"pH\"].mean()\n",
    "sulphates_mean = wineDf[\"sulphates\"].mean()\n",
    "\n",
    "wineDf[\"fixed acidity\"].fillna( value=fixed_acidity_mean, inplace=True)\n",
    "wineDf[\"volatile acidity\"].fillna( value=volatile_acidity_mean, inplace=True)\n",
    "wineDf[\"citric acid\"].fillna( value=citric_acid_mean, inplace=True)\n",
    "wineDf[\"residual sugar\"].fillna( value=residual_sugar_mean, inplace=True)\n",
    "wineDf[\"chlorides\"].fillna( value=chlorides_mean, inplace=True)\n",
    "wineDf[\"pH\"].fillna( value=pH_mean, inplace=True)\n",
    "wineDf[\"sulphates\"].fillna( value=sulphates_mean, inplace=True)\n",
    "\n",
    "wineDf.info()"
   ]
  },
  {
   "cell_type": "markdown",
   "metadata": {},
   "source": [
    "## Splitting the Dataset"
   ]
  },
  {
   "cell_type": "code",
   "execution_count": 3,
   "metadata": {},
   "outputs": [
    {
     "name": "stdout",
     "output_type": "stream",
     "text": [
      "5197 1300\n",
      "       type  fixed acidity   ...     alcohol  quality\n",
      "6452    red            6.6   ...        11.0        6\n",
      "5110    red           11.6   ...        10.2        6\n",
      "2792  white            6.8   ...         9.4        5\n",
      "1879  white            7.2   ...         9.2        6\n",
      "2742  white            8.0   ...         9.5        6\n",
      "\n",
      "[5 rows x 13 columns]\n",
      "       type  fixed acidity   ...     alcohol  quality\n",
      "1321  white            7.3   ...        13.2        6\n",
      "2767  white            7.9   ...         9.5        6\n",
      "5069    red            8.0   ...         9.2        6\n",
      "5780    red            8.4   ...        12.0        6\n",
      "547   white            7.7   ...        11.8        6\n",
      "\n",
      "[5 rows x 13 columns]\n"
     ]
    }
   ],
   "source": [
    "from sklearn.model_selection import train_test_split\n",
    "\n",
    "wine_train_set, wine_test_set = train_test_split(wineDf, test_size=0.2, random_state=123)\n",
    "print(len(wine_train_set), len(wine_test_set))\n",
    "print(wine_train_set.head())\n",
    "print(wine_test_set.head())"
   ]
  },
  {
   "cell_type": "code",
   "execution_count": null,
   "metadata": {},
   "outputs": [],
   "source": []
  }
 ],
 "metadata": {
  "kernelspec": {
   "display_name": "Python 3 (Spyder)",
   "language": "python3",
   "name": "python3"
  },
  "language_info": {
   "codemirror_mode": {
    "name": "ipython",
    "version": 3
   },
   "file_extension": ".py",
   "mimetype": "text/x-python",
   "name": "python",
   "nbconvert_exporter": "python",
   "pygments_lexer": "ipython3",
   "version": "3.7.1"
  }
 },
 "nbformat": 4,
 "nbformat_minor": 2
}
