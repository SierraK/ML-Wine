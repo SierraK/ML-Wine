{
 "cells": [
  {
   "cell_type": "markdown",
   "metadata": {},
   "source": [
    "# Classification"
   ]
  },
  {
   "cell_type": "markdown",
   "metadata": {},
   "source": []
  },
  {
   "cell_type": "markdown",
   "metadata": {},
   "source": [
    "## Importing DataSet"
   ]
  },
  {
   "cell_type": "code",
   "execution_count": 1,
   "metadata": {},
   "outputs": [
    {
     "name": "stdout",
     "output_type": "stream",
     "text": [
      "<class 'pandas.core.frame.DataFrame'>\n",
      "RangeIndex: 6497 entries, 0 to 6496\n",
      "Data columns (total 13 columns):\n",
      "type                    6497 non-null object\n",
      "fixed acidity           6487 non-null float64\n",
      "volatile acidity        6489 non-null float64\n",
      "citric acid             6494 non-null float64\n",
      "residual sugar          6495 non-null float64\n",
      "chlorides               6495 non-null float64\n",
      "free sulfur dioxide     6497 non-null float64\n",
      "total sulfur dioxide    6497 non-null float64\n",
      "density                 6497 non-null float64\n",
      "pH                      6488 non-null float64\n",
      "sulphates               6493 non-null float64\n",
      "alcohol                 6497 non-null float64\n",
      "quality                 6497 non-null int64\n",
      "dtypes: float64(11), int64(1), object(1)\n",
      "memory usage: 659.9+ KB\n"
     ]
    }
   ],
   "source": [
    "import pandas as pd\n",
    "import matplotlib.pyplot as plt\n",
    "import seaborn as sns\n",
    "wine_data = pd.read_csv(\"wineData.csv\")\n",
    "wine_data.info()"
   ]
  },
  {
   "cell_type": "markdown",
   "metadata": {},
   "source": [
    "## Cleaning the Dataset"
   ]
  },
  {
   "cell_type": "code",
   "execution_count": 2,
   "metadata": {},
   "outputs": [
    {
     "name": "stdout",
     "output_type": "stream",
     "text": [
      "<class 'pandas.core.frame.DataFrame'>\n",
      "RangeIndex: 6497 entries, 0 to 6496\n",
      "Data columns (total 13 columns):\n",
      "type                    6497 non-null object\n",
      "fixed acidity           6497 non-null float64\n",
      "volatile acidity        6497 non-null float64\n",
      "citric acid             6497 non-null float64\n",
      "residual sugar          6497 non-null float64\n",
      "chlorides               6497 non-null float64\n",
      "free sulfur dioxide     6497 non-null float64\n",
      "total sulfur dioxide    6497 non-null float64\n",
      "density                 6497 non-null float64\n",
      "pH                      6497 non-null float64\n",
      "sulphates               6497 non-null float64\n",
      "alcohol                 6497 non-null float64\n",
      "quality                 6497 non-null int64\n",
      "dtypes: float64(11), int64(1), object(1)\n",
      "memory usage: 659.9+ KB\n"
     ]
    }
   ],
   "source": [
    "wineDf = wine_data.copy()\n",
    "\n",
    "fixed_acidity_mean = wineDf[\"fixed acidity\"].mean()\n",
    "volatile_acidity_mean = wineDf[\"volatile acidity\"].mean()\n",
    "citric_acid_mean = wineDf[\"citric acid\"].mean()\n",
    "chlorides_mean = wineDf[\"chlorides\"].mean()\n",
    "residual_sugar_mean = wineDf[\"residual sugar\"].mean()\n",
    "pH_mean = wineDf[\"pH\"].mean()\n",
    "sulphates_mean = wineDf[\"sulphates\"].mean()\n",
    "\n",
    "wineDf[\"fixed acidity\"].fillna( value=fixed_acidity_mean, inplace=True)\n",
    "wineDf[\"volatile acidity\"].fillna( value=volatile_acidity_mean, inplace=True)\n",
    "wineDf[\"citric acid\"].fillna( value=citric_acid_mean, inplace=True)\n",
    "wineDf[\"residual sugar\"].fillna( value=residual_sugar_mean, inplace=True)\n",
    "wineDf[\"chlorides\"].fillna( value=chlorides_mean, inplace=True)\n",
    "wineDf[\"pH\"].fillna( value=pH_mean, inplace=True)\n",
    "wineDf[\"sulphates\"].fillna( value=sulphates_mean, inplace=True)\n",
    "\n",
    "wineDf.info()"
   ]
  },
  {
   "cell_type": "markdown",
   "metadata": {},
   "source": [
    "## Splitting the Dataset"
   ]
  },
  {
   "cell_type": "code",
   "execution_count": 3,
   "metadata": {
    "scrolled": true
   },
   "outputs": [
    {
     "name": "stdout",
     "output_type": "stream",
     "text": [
      "5197 1300\n",
      "       type  fixed acidity   ...     alcohol  quality\n",
      "6452    red            6.6   ...        11.0        6\n",
      "5110    red           11.6   ...        10.2        6\n",
      "2792  white            6.8   ...         9.4        5\n",
      "1879  white            7.2   ...         9.2        6\n",
      "2742  white            8.0   ...         9.5        6\n",
      "\n",
      "[5 rows x 13 columns]\n",
      "       type  fixed acidity   ...     alcohol  quality\n",
      "1321  white            7.3   ...        13.2        6\n",
      "2767  white            7.9   ...         9.5        6\n",
      "5069    red            8.0   ...         9.2        6\n",
      "5780    red            8.4   ...        12.0        6\n",
      "547   white            7.7   ...        11.8        6\n",
      "\n",
      "[5 rows x 13 columns]\n"
     ]
    }
   ],
   "source": [
    "from sklearn.model_selection import train_test_split\n",
    "\n",
    "wine_train_set, wine_test_set = train_test_split(wineDf, test_size=0.2, random_state=123)\n",
    "print(len(wine_train_set), len(wine_test_set))\n",
    "print(wine_train_set.head())\n",
    "print(wine_test_set.head())"
   ]
  },
  {
   "cell_type": "markdown",
   "metadata": {},
   "source": [
    "## Decision Tree"
   ]
  },
  {
   "cell_type": "markdown",
   "metadata": {},
   "source": [
    "### Notes: \n",
    "The target feature is going to be the type of wine to see if the type of wine can be classified by its chemical properties. The inital X feature is going to be the quality and alcohol because those seem to be important."
   ]
  },
  {
   "cell_type": "code",
   "execution_count": 8,
   "metadata": {},
   "outputs": [
    {
     "data": {
      "text/plain": [
       "DecisionTreeClassifier(class_weight=None, criterion='gini', max_depth=None,\n",
       "            max_features=None, max_leaf_nodes=None,\n",
       "            min_impurity_decrease=0.0, min_impurity_split=None,\n",
       "            min_samples_leaf=1, min_samples_split=2,\n",
       "            min_weight_fraction_leaf=0.0, presort=False, random_state=None,\n",
       "            splitter='best')"
      ]
     },
     "execution_count": 8,
     "metadata": {},
     "output_type": "execute_result"
    }
   ],
   "source": [
    "from sklearn.tree import DecisionTreeClassifier\n",
    "from sklearn.metrics import confusion_matrix\n",
    "from sklearn.metrics import accuracy_score, precision_score, recall_score, f1_score\n",
    "\n",
    "X = wine_train_set[[\"alcohol\", \"quality\"]]\n",
    "y = wine_train_set['type']\n",
    "\n",
    "tree_classifier = DecisionTreeClassifier()\n",
    "tree_classifier.fit(X,y)"
   ]
  },
  {
   "cell_type": "code",
   "execution_count": 9,
   "metadata": {},
   "outputs": [
    {
     "name": "stdout",
     "output_type": "stream",
     "text": [
      "[[  93 1205]\n",
      " [  58 3841]]\n",
      "Accuracy is  0.7569751779873004\n",
      "Precision is  0.7249061994745626\n",
      "Sensitivity is  0.7569751779873004\n",
      "F1 is  0.6763696358184811\n"
     ]
    }
   ],
   "source": [
    "y_predicted = tree_classifier.predict(X)\n",
    "matrix = confusion_matrix(y, y_predicted)\n",
    "print(matrix)\n",
    "print (\"Accuracy is \", accuracy_score(y, y_predicted))\n",
    "print (\"Precision is \", precision_score(y, y_predicted, average=\"weighted\"))\n",
    "print (\"Sensitivity is \", recall_score(y, y_predicted, average=\"weighted\"))\n",
    "print (\"F1 is \", f1_score(y, y_predicted, average=\"weighted\"))"
   ]
  },
  {
   "cell_type": "markdown",
   "metadata": {},
   "source": [
    "### Notes: \n",
    "It's getting around 75% accuracy correct with the inital X features and an F1 score of 67%. I am going to different X feautures to try and get better results."
   ]
  },
  {
   "cell_type": "code",
   "execution_count": 58,
   "metadata": {},
   "outputs": [
    {
     "data": {
      "text/plain": [
       "DecisionTreeClassifier(class_weight=None, criterion='gini', max_depth=None,\n",
       "            max_features=None, max_leaf_nodes=None,\n",
       "            min_impurity_decrease=0.0, min_impurity_split=None,\n",
       "            min_samples_leaf=1, min_samples_split=2,\n",
       "            min_weight_fraction_leaf=0.0, presort=False, random_state=None,\n",
       "            splitter='best')"
      ]
     },
     "execution_count": 58,
     "metadata": {},
     "output_type": "execute_result"
    }
   ],
   "source": [
    "X = wine_train_set[[\"alcohol\", \"residual sugar\"]]\n",
    "y = wine_train_set['type']\n",
    "\n",
    "tree_classifier2 = DecisionTreeClassifier()\n",
    "tree_classifier2.fit(X,y)"
   ]
  },
  {
   "cell_type": "code",
   "execution_count": 59,
   "metadata": {},
   "outputs": [
    {
     "name": "stdout",
     "output_type": "stream",
     "text": [
      "[[1165  133]\n",
      " [ 278 3621]]\n",
      "Accuracy is  0.9209159130267462\n",
      "Precision is  0.9253026113015828\n",
      "Sensitivity is  0.9209159130267462\n",
      "F1 is  0.922258507085113\n"
     ]
    }
   ],
   "source": [
    "y_predicted = tree_classifier2.predict(X)\n",
    "matrix = confusion_matrix(y, y_predicted)\n",
    "print(matrix)\n",
    "print (\"Accuracy is \", accuracy_score(y, y_predicted))\n",
    "print (\"Precision is \", precision_score(y, y_predicted, average=\"weighted\"))\n",
    "print (\"Sensitivity is \", recall_score(y, y_predicted, average=\"weighted\"))\n",
    "print (\"F1 is \", f1_score(y, y_predicted, average=\"weighted\"))"
   ]
  },
  {
   "cell_type": "markdown",
   "metadata": {},
   "source": [
    "### Notes: \n",
    "After extensive testing the best that could be scored on the F1 score is a 92% using alcohol and residual sugar. Which makes sense since those are the main contributing factors to the wines. "
   ]
  },
  {
   "cell_type": "markdown",
   "metadata": {},
   "source": [
    "## SVM"
   ]
  },
  {
   "cell_type": "code",
   "execution_count": null,
   "metadata": {},
   "outputs": [],
   "source": [
    "from sklearn.svm import SVC\n",
    "\n",
    "X = wine_train_set[[\"alcohol\", 'residual sugar']]\n",
    "y = wine_train_set['type']\n",
    "\n",
    "svm_classifier = SVC(kernel=\"rbf\", gamma = \"auto\")\n",
    "svm_classifier.fit(X,y)"
   ]
  },
  {
   "cell_type": "code",
   "execution_count": null,
   "metadata": {},
   "outputs": [],
   "source": [
    "y_predicted = svm_classifier.predict(X)\n",
    "matrix = confusion_matrix(y, y_predicted)\n",
    "print(matrix)\n",
    "print (\"Accuracy is \", accuracy_score(y, y_predicted))\n",
    "print (\"Precision is \", precision_score(y, y_predicted, average=\"weighted\"))\n",
    "print (\"Sensitivity is \", recall_score(y, y_predicted, average=\"weighted\"))\n",
    "print (\"F1 is \", f1_score(y, y_predicted, average=\"weighted\"))"
   ]
  },
  {
   "cell_type": "markdown",
   "metadata": {},
   "source": [
    "### Notes: \n",
    "As you can see the SVM did better than the decision tree at classifying the wine. The decision tree performed at 69% and the SVM performed at 85% accuracy. Below further testing will be done to see if an even better score can be found."
   ]
  },
  {
   "cell_type": "code",
   "execution_count": null,
   "metadata": {},
   "outputs": [],
   "source": [
    "X = wine_train_set[[\"alcohol\", 'residual sugar', \"chlorides\", \"volatile acidity\", \"citric acid\"]]\n",
    "y = wine_train_set['type']\n",
    "\n",
    "svm_classifier2 = SVC(kernel=\"rbf\", gamma = \"auto\")\n",
    "svm_classifier2.fit(X,y)"
   ]
  },
  {
   "cell_type": "code",
   "execution_count": 57,
   "metadata": {},
   "outputs": [
    {
     "name": "stdout",
     "output_type": "stream",
     "text": [
      "[[ 994  304]\n",
      " [  86 3813]]\n",
      "Accuracy is  0.924956705791803\n",
      "Precision is  0.9247138539283412\n",
      "Sensitivity is  0.924956705791803\n",
      "F1 is  0.922537382531821\n"
     ]
    }
   ],
   "source": [
    "y_predicted = svm_classifier2.predict(X)\n",
    "matrix = confusion_matrix(y, y_predicted)\n",
    "print(matrix)\n",
    "print (\"Accuracy is \", accuracy_score(y, y_predicted))\n",
    "print (\"Precision is \", precision_score(y, y_predicted, average=\"weighted\"))\n",
    "print (\"Sensitivity is \", recall_score(y, y_predicted, average=\"weighted\"))\n",
    "print (\"F1 is \", f1_score(y, y_predicted, average=\"weighted\"))"
   ]
  },
  {
   "cell_type": "code",
   "execution_count": null,
   "metadata": {},
   "outputs": [],
   "source": []
  }
 ],
 "metadata": {
  "kernelspec": {
   "display_name": "Python 3 (Spyder)",
   "language": "python3",
   "name": "python3"
  },
  "language_info": {
   "codemirror_mode": {
    "name": "ipython",
    "version": 3
   },
   "file_extension": ".py",
   "mimetype": "text/x-python",
   "name": "python",
   "nbconvert_exporter": "python",
   "pygments_lexer": "ipython3",
   "version": "3.7.1"
  }
 },
 "nbformat": 4,
 "nbformat_minor": 2
}
