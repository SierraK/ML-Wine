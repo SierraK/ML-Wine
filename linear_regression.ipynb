{
 "cells": [
  {
   "cell_type": "markdown",
   "metadata": {},
   "source": [
    "# Linear Regression"
   ]
  },
  {
   "cell_type": "markdown",
   "metadata": {},
   "source": [
    "For the linear regression I have split the data set into the white and red wine data sets. The chemical properties should be different between the two types of wine so I felt that it was necessary to do so. "
   ]
  },
  {
   "cell_type": "markdown",
   "metadata": {},
   "source": [
    "## Importing Dataset"
   ]
  },
  {
   "cell_type": "code",
   "execution_count": 32,
   "metadata": {},
   "outputs": [],
   "source": [
    "import pandas as pd\n",
    "import matplotlib.pyplot as plt\n",
    "import seaborn as sns\n",
    "white = pd.read_csv(\"white_wine_data.csv\")\n",
    "red = pd.read_csv(\"red_wine_data.csv\")"
   ]
  },
  {
   "cell_type": "code",
   "execution_count": 11,
   "metadata": {},
   "outputs": [
    {
     "name": "stdout",
     "output_type": "stream",
     "text": [
      "<class 'pandas.core.frame.DataFrame'>\n",
      "RangeIndex: 4898 entries, 0 to 4897\n",
      "Data columns (total 13 columns):\n",
      "type                    4898 non-null object\n",
      "fixed acidity           4890 non-null float64\n",
      "volatile acidity        4891 non-null float64\n",
      "citric acid             4896 non-null float64\n",
      "residual sugar          4896 non-null float64\n",
      "chlorides               4896 non-null float64\n",
      "free sulfur dioxide     4898 non-null float64\n",
      "total sulfur dioxide    4898 non-null float64\n",
      "density                 4898 non-null float64\n",
      "pH                      4891 non-null float64\n",
      "sulphates               4896 non-null float64\n",
      "alcohol                 4898 non-null float64\n",
      "quality                 4898 non-null int64\n",
      "dtypes: float64(11), int64(1), object(1)\n",
      "memory usage: 497.5+ KB\n",
      "<class 'pandas.core.frame.DataFrame'>\n",
      "RangeIndex: 1599 entries, 0 to 1598\n",
      "Data columns (total 13 columns):\n",
      "type                    1599 non-null object\n",
      "fixed acidity           1597 non-null float64\n",
      "volatile acidity        1598 non-null float64\n",
      "citric acid             1598 non-null float64\n",
      "residual sugar          1599 non-null float64\n",
      "chlorides               1599 non-null float64\n",
      "free sulfur dioxide     1599 non-null float64\n",
      "total sulfur dioxide    1599 non-null float64\n",
      "density                 1599 non-null float64\n",
      "pH                      1597 non-null float64\n",
      "sulphates               1597 non-null float64\n",
      "alcohol                 1599 non-null float64\n",
      "quality                 1599 non-null int64\n",
      "dtypes: float64(11), int64(1), object(1)\n",
      "memory usage: 162.5+ KB\n"
     ]
    }
   ],
   "source": [
    "white.info()\n",
    "red.info()"
   ]
  },
  {
   "cell_type": "markdown",
   "metadata": {},
   "source": [
    "## Cleaning White Dataset"
   ]
  },
  {
   "cell_type": "code",
   "execution_count": 31,
   "metadata": {},
   "outputs": [
    {
     "name": "stdout",
     "output_type": "stream",
     "text": [
      "<class 'pandas.core.frame.DataFrame'>\n",
      "RangeIndex: 4898 entries, 0 to 4897\n",
      "Data columns (total 13 columns):\n",
      "type                    4898 non-null object\n",
      "fixed acidity           4898 non-null float64\n",
      "volatile acidity        4898 non-null float64\n",
      "citric acid             4898 non-null float64\n",
      "residual sugar          4898 non-null float64\n",
      "chlorides               4898 non-null float64\n",
      "free sulfur dioxide     4898 non-null float64\n",
      "total sulfur dioxide    4898 non-null float64\n",
      "density                 4898 non-null float64\n",
      "pH                      4898 non-null float64\n",
      "sulphates               4898 non-null float64\n",
      "alcohol                 4898 non-null float64\n",
      "quality                 4898 non-null int64\n",
      "dtypes: float64(11), int64(1), object(1)\n",
      "memory usage: 497.5+ KB\n"
     ]
    }
   ],
   "source": [
    "clean_white = white.copy()\n",
    "\n",
    "white_fixed_acidity_mean = clean_white[\"fixed acidity\"].mean()\n",
    "white_volatile_acidity_mean = clean_white[\"volatile acidity\"].mean()\n",
    "white_citric_acid_mean = clean_white[\"citric acid\"].mean()\n",
    "white_chlorides_mean = clean_white[\"chlorides\"].mean()\n",
    "white_residual_sugar_mean = clean_white[\"residual sugar\"].mean()\n",
    "white_pH_mean = clean_white[\"pH\"].mean()\n",
    "white_sulphates_mean = clean_white[\"sulphates\"].mean()\n",
    "\n",
    "clean_white[\"fixed acidity\"].fillna( value=white_fixed_acidity_mean, inplace=True)\n",
    "clean_white[\"volatile acidity\"].fillna( value=white_volatile_acidity_mean, inplace=True)\n",
    "clean_white[\"citric acid\"].fillna( value=white_citric_acid_mean, inplace=True)\n",
    "clean_white[\"residual sugar\"].fillna( value=white_residual_sugar_mean, inplace=True)\n",
    "clean_white[\"chlorides\"].fillna( value=white_chlorides_mean, inplace=True)\n",
    "clean_white[\"pH\"].fillna( value=white_pH_mean, inplace=True)\n",
    "clean_white[\"sulphates\"].fillna( value=white_sulphates_mean, inplace=True)\n",
    "\n",
    "clean_white.info()"
   ]
  },
  {
   "cell_type": "markdown",
   "metadata": {},
   "source": [
    "## Cleaning Red Dataset"
   ]
  },
  {
   "cell_type": "code",
   "execution_count": 13,
   "metadata": {},
   "outputs": [
    {
     "name": "stdout",
     "output_type": "stream",
     "text": [
      "<class 'pandas.core.frame.DataFrame'>\n",
      "RangeIndex: 1599 entries, 0 to 1598\n",
      "Data columns (total 13 columns):\n",
      "type                    1599 non-null object\n",
      "fixed acidity           1599 non-null float64\n",
      "volatile acidity        1599 non-null float64\n",
      "citric acid             1599 non-null float64\n",
      "residual sugar          1599 non-null float64\n",
      "chlorides               1599 non-null float64\n",
      "free sulfur dioxide     1599 non-null float64\n",
      "total sulfur dioxide    1599 non-null float64\n",
      "density                 1599 non-null float64\n",
      "pH                      1599 non-null float64\n",
      "sulphates               1599 non-null float64\n",
      "alcohol                 1599 non-null float64\n",
      "quality                 1599 non-null int64\n",
      "dtypes: float64(11), int64(1), object(1)\n",
      "memory usage: 162.5+ KB\n"
     ]
    }
   ],
   "source": [
    "clean_red = red.copy()\n",
    "\n",
    "red_fixed_acidity_mean = clean_red[\"fixed acidity\"].mean()\n",
    "red_volatile_acidity_mean = clean_red[\"volatile acidity\"].mean()\n",
    "red_citric_acid_mean = clean_red[\"citric acid\"].mean()\n",
    "red_pH_mean = clean_red[\"pH\"].mean()\n",
    "red_sulphates_mean = clean_red[\"sulphates\"].mean()\n",
    "\n",
    "clean_red[\"fixed acidity\"].fillna( value=red_fixed_acidity_mean, inplace=True)\n",
    "clean_red[\"volatile acidity\"].fillna( value=red_volatile_acidity_mean, inplace=True)\n",
    "clean_red[\"citric acid\"].fillna( value=red_citric_acid_mean, inplace=True)\n",
    "clean_red[\"pH\"].fillna( value=red_pH_mean, inplace=True)\n",
    "clean_red[\"sulphates\"].fillna( value=red_sulphates_mean, inplace=True)\n",
    "\n",
    "clean_red.info()"
   ]
  },
  {
   "cell_type": "markdown",
   "metadata": {},
   "source": [
    "## Splitting White Dataset"
   ]
  },
  {
   "cell_type": "code",
   "execution_count": 14,
   "metadata": {},
   "outputs": [
    {
     "name": "stdout",
     "output_type": "stream",
     "text": [
      "3918 980\n",
      "       type  fixed acidity   ...     alcohol  quality\n",
      "4120  white            7.4   ...         9.0        5\n",
      "1169  white            7.5   ...         9.6        6\n",
      "1941  white            6.8   ...         9.0        5\n",
      "1971  white            6.3   ...        11.7        7\n",
      "3124  white            6.5   ...         9.2        6\n",
      "\n",
      "[5 rows x 13 columns]\n",
      "       type  fixed acidity   ...     alcohol  quality\n",
      "1088  white            7.4   ...         9.2        6\n",
      "4366  white            5.9   ...        12.6        6\n",
      "92    white            6.9   ...        12.6        7\n",
      "2901  white            6.5   ...        11.9        7\n",
      "2330  white            7.5   ...         9.3        6\n",
      "\n",
      "[5 rows x 13 columns]\n"
     ]
    }
   ],
   "source": [
    "from sklearn.model_selection import train_test_split\n",
    "\n",
    "white_train_set, white_test_set = train_test_split(clean_white, test_size=0.2, random_state=123)\n",
    "print(len(white_train_set), len(white_test_set))\n",
    "print(white_train_set.head())\n",
    "print(white_test_set.head())"
   ]
  },
  {
   "cell_type": "markdown",
   "metadata": {},
   "source": [
    "## Splitting Red Dataset"
   ]
  },
  {
   "cell_type": "code",
   "execution_count": 19,
   "metadata": {
    "scrolled": true
   },
   "outputs": [
    {
     "name": "stdout",
     "output_type": "stream",
     "text": [
      "1279 320\n",
      "     type  fixed acidity  volatile acidity   ...     sulphates  alcohol  quality\n",
      "1076  red            9.9              0.32   ...          0.73     11.4        6\n",
      "847   red            7.4              0.68   ...          0.70      9.9        6\n",
      "582   red           11.7              0.49   ...          0.43      9.2        5\n",
      "172   red            8.0              0.42   ...          0.61      9.2        6\n",
      "779   red            7.1              0.52   ...          0.60      9.8        5\n",
      "\n",
      "[5 rows x 13 columns]\n",
      "     type  fixed acidity  volatile acidity   ...     sulphates  alcohol  quality\n",
      "912   red           10.0              0.46   ...          0.62     12.2        6\n",
      "772   red            9.5              0.57   ...          0.55      9.4        5\n",
      "1037  red            7.3              0.91   ...          0.56      9.2        5\n",
      "1106  red            8.2              0.23   ...          0.54     12.3        6\n",
      "263   red            7.9              0.37   ...          0.67      9.3        5\n",
      "\n",
      "[5 rows x 13 columns]\n"
     ]
    }
   ],
   "source": [
    "red_train_set, red_test_set = train_test_split(clean_red, test_size=0.2, random_state=123)\n",
    "print(len(red_train_set), len(red_test_set))\n",
    "print(red_train_set.head())\n",
    "print(red_test_set.head())"
   ]
  },
  {
   "cell_type": "markdown",
   "metadata": {},
   "source": [
    "### Heat Map for White Wine"
   ]
  },
  {
   "cell_type": "code",
   "execution_count": 20,
   "metadata": {},
   "outputs": [],
   "source": [
    "correlation = white_train_set.corr()\n",
    "plt.figure(figsize=(14, 12))\n",
    "heatmap = sns.heatmap(correlation, annot=True, linewidths=0, vmin=-1, cmap=sns.diverging_palette(150, 275, s=80, l=55, n=9))"
   ]
  },
  {
   "cell_type": "markdown",
   "metadata": {},
   "source": [
    "### Heat Map for Red Wine"
   ]
  },
  {
   "cell_type": "code",
   "execution_count": 18,
   "metadata": {},
   "outputs": [],
   "source": [
    "correlation = red_train_set.corr()\n",
    "plt.figure(figsize=(14, 12))\n",
    "heatmap = sns.heatmap(correlation, annot=True, linewidths=0, vmin=-1, cmap=\"RdBu_r\")"
   ]
  },
  {
   "cell_type": "markdown",
   "metadata": {},
   "source": [
    "## Initial Training for White Wine "
   ]
  },
  {
   "cell_type": "markdown",
   "metadata": {},
   "source": [
    "For the first inital training of the wine data set model I am using alcohol. Alcohol can make the wine more bitter so those might be important for determing the quality of the wine. "
   ]
  },
  {
   "cell_type": "code",
   "execution_count": 21,
   "metadata": {},
   "outputs": [
    {
     "data": {
      "text/plain": [
       "LinearRegression(copy_X=True, fit_intercept=True, n_jobs=None,\n",
       "         normalize=False)"
      ]
     },
     "execution_count": 21,
     "metadata": {},
     "output_type": "execute_result"
    }
   ],
   "source": [
    "from sklearn.linear_model import LinearRegression\n",
    "white_reg = LinearRegression()\n",
    "\n",
    "white_X = white_train_set[[\"alcohol\"]]\n",
    "white_Y = white_train_set[\"quality\"]\n",
    "white_reg.fit(white_X, white_Y)"
   ]
  },
  {
   "cell_type": "code",
   "execution_count": 22,
   "metadata": {},
   "outputs": [
    {
     "name": "stderr",
     "output_type": "stream",
     "text": [
      "C:\\Users\\S529039\\Anaconda\\lib\\site-packages\\scipy\\stats\\stats.py:1713: FutureWarning: Using a non-tuple sequence for multidimensional indexing is deprecated; use `arr[tuple(seq)]` instead of `arr[seq]`. In the future this will be interpreted as an array index, `arr[np.array(seq)]`, which will result either in an error or a different result.\n",
      "  return np.add.reduce(sorted[indexer] * weights, axis=axis) / sumval\n"
     ]
    }
   ],
   "source": [
    "fig, axs = plt.subplots(ncols=1,figsize=(10,6))\n",
    "sns.barplot(x='quality', y='alcohol', data=white_train_set, ax=axs)\n",
    "plt.title('quality VS alcohol')\n",
    "plt.tight_layout()\n",
    "plt.show()"
   ]
  },
  {
   "cell_type": "markdown",
   "metadata": {},
   "source": [
    "## Initial Results"
   ]
  },
  {
   "cell_type": "code",
   "execution_count": 23,
   "metadata": {},
   "outputs": [
    {
     "name": "stdout",
     "output_type": "stream",
     "text": [
      "The R2 score is: 0.18294068827397758\n",
      "Mean Squared Error is:  0.6436278365855493\n"
     ]
    }
   ],
   "source": [
    "from sklearn.metrics import mean_squared_error\n",
    "\n",
    "print(\"The R2 score is:\", white_reg.score(white_X,white_Y))\n",
    "\n",
    "white_y_pred = white_reg.predict(white_X)\n",
    "white_mse = mean_squared_error(white_Y, white_y_pred)\n",
    "print(\"Mean Squared Error is: \",  white_mse)"
   ]
  },
  {
   "cell_type": "markdown",
   "metadata": {},
   "source": [
    "### Notes: \n",
    "The R2 score was not very good. More testing will be needed."
   ]
  },
  {
   "cell_type": "markdown",
   "metadata": {},
   "source": [
    "## Initial Training for Red Wine"
   ]
  },
  {
   "cell_type": "code",
   "execution_count": 24,
   "metadata": {},
   "outputs": [
    {
     "data": {
      "text/plain": [
       "LinearRegression(copy_X=True, fit_intercept=True, n_jobs=None,\n",
       "         normalize=False)"
      ]
     },
     "execution_count": 24,
     "metadata": {},
     "output_type": "execute_result"
    }
   ],
   "source": [
    "red_reg = LinearRegression()\n",
    "\n",
    "red_X = red_train_set[[\"alcohol\"]]\n",
    "red_Y = red_train_set[\"quality\"]\n",
    "red_reg.fit(red_X, red_Y)"
   ]
  },
  {
   "cell_type": "code",
   "execution_count": 25,
   "metadata": {},
   "outputs": [
    {
     "name": "stderr",
     "output_type": "stream",
     "text": [
      "C:\\Users\\S529039\\Anaconda\\lib\\site-packages\\scipy\\stats\\stats.py:1713: FutureWarning: Using a non-tuple sequence for multidimensional indexing is deprecated; use `arr[tuple(seq)]` instead of `arr[seq]`. In the future this will be interpreted as an array index, `arr[np.array(seq)]`, which will result either in an error or a different result.\n",
      "  return np.add.reduce(sorted[indexer] * weights, axis=axis) / sumval\n"
     ]
    }
   ],
   "source": [
    "fig, axs = plt.subplots(ncols=1,figsize=(10,6))\n",
    "sns.barplot(x='quality', y='alcohol', data=red_train_set, ax=axs)\n",
    "plt.title('quality VS alcohol')\n",
    "plt.tight_layout()\n",
    "plt.show()"
   ]
  },
  {
   "cell_type": "markdown",
   "metadata": {},
   "source": [
    "## Inital Results"
   ]
  },
  {
   "cell_type": "code",
   "execution_count": 26,
   "metadata": {},
   "outputs": [
    {
     "name": "stdout",
     "output_type": "stream",
     "text": [
      "The R2 score is: 0.22944655975826067\n",
      "Mean Squared Error is:  0.4997760282831427\n"
     ]
    }
   ],
   "source": [
    "print(\"The R2 score is:\", red_reg.score(red_X,red_Y))\n",
    "\n",
    "red_y_pred = red_reg.predict(red_X)\n",
    "red_mse = mean_squared_error(red_Y, red_y_pred)\n",
    "print(\"Mean Squared Error is: \",  red_mse)"
   ]
  },
  {
   "cell_type": "markdown",
   "metadata": {},
   "source": [
    "### Notes: \n",
    "Using the same X values as the model for the white data set the model for red data set did a bit better but it still needs work. "
   ]
  },
  {
   "cell_type": "markdown",
   "metadata": {},
   "source": [
    "## Round 2 Training White Wine"
   ]
  },
  {
   "cell_type": "code",
   "execution_count": 27,
   "metadata": {},
   "outputs": [
    {
     "data": {
      "text/plain": [
       "LinearRegression(copy_X=True, fit_intercept=True, n_jobs=None,\n",
       "         normalize=False)"
      ]
     },
     "execution_count": 27,
     "metadata": {},
     "output_type": "execute_result"
    }
   ],
   "source": [
    "white_reg2 = LinearRegression()\n",
    "\n",
    "white_X2 = white_train_set[[\"alcohol\", \"volatile acidity\", \"residual sugar\", \"sulphates\"]]\n",
    "white_Y2 = white_train_set[\"quality\"]\n",
    "white_reg2.fit(white_X2, white_Y2)"
   ]
  },
  {
   "cell_type": "code",
   "execution_count": 28,
   "metadata": {},
   "outputs": [
    {
     "name": "stderr",
     "output_type": "stream",
     "text": [
      "C:\\Users\\S529039\\Anaconda\\lib\\site-packages\\scipy\\stats\\stats.py:1713: FutureWarning: Using a non-tuple sequence for multidimensional indexing is deprecated; use `arr[tuple(seq)]` instead of `arr[seq]`. In the future this will be interpreted as an array index, `arr[np.array(seq)]`, which will result either in an error or a different result.\n",
      "  return np.add.reduce(sorted[indexer] * weights, axis=axis) / sumval\n"
     ]
    }
   ],
   "source": [
    "fig, axs = plt.subplots(ncols=1,figsize=(10,6))\n",
    "sns.barplot(x='quality', y='volatile acidity', data=white_train_set, ax=axs)\n",
    "plt.title('quality VS volatile acidity')\n",
    "plt.tight_layout()\n",
    "plt.show()"
   ]
  },
  {
   "cell_type": "code",
   "execution_count": 29,
   "metadata": {},
   "outputs": [],
   "source": [
    "fig, axs = plt.subplots(ncols=1,figsize=(10,6))\n",
    "sns.barplot(x='quality', y='residual sugar', data=white_train_set, ax=axs)\n",
    "plt.title('quality VS residual sugar')\n",
    "plt.tight_layout()\n",
    "plt.show()"
   ]
  },
  {
   "cell_type": "code",
   "execution_count": 170,
   "metadata": {},
   "outputs": [],
   "source": [
    "fig, axs = plt.subplots(ncols=1,figsize=(10,6))\n",
    "sns.barplot(x='quality', y='sulphates', data=white_train_set, ax=axs)\n",
    "plt.title('quality VS sulphates')\n",
    "plt.tight_layout()\n",
    "plt.show()"
   ]
  },
  {
   "cell_type": "markdown",
   "metadata": {},
   "source": [
    "## Round 2 Results"
   ]
  },
  {
   "cell_type": "code",
   "execution_count": 146,
   "metadata": {},
   "outputs": [
    {
     "name": "stdout",
     "output_type": "stream",
     "text": [
      "The R2 score is: 0.25546985764902086\n",
      "Mean Squared Error is:  0.5864939275727611\n"
     ]
    }
   ],
   "source": [
    "print(\"The R2 score is:\", white_reg2.score(white_X2,white_Y2))\n",
    "\n",
    "white_y_pred2 = white_reg2.predict(white_X2)\n",
    "white_mse2 = mean_squared_error(white_Y2, white_y_pred2)\n",
    "print(\"Mean Squared Error is: \",  white_mse2)"
   ]
  },
  {
   "cell_type": "markdown",
   "metadata": {},
   "source": [
    "### Notes:\n",
    "The R2 score got better after using several more parameters but overall it still is not the best"
   ]
  },
  {
   "cell_type": "markdown",
   "metadata": {},
   "source": [
    "## Round 2 Training Red Wine"
   ]
  },
  {
   "cell_type": "code",
   "execution_count": 154,
   "metadata": {},
   "outputs": [
    {
     "data": {
      "text/plain": [
       "LinearRegression(copy_X=True, fit_intercept=True, n_jobs=None,\n",
       "         normalize=False)"
      ]
     },
     "execution_count": 154,
     "metadata": {},
     "output_type": "execute_result"
    }
   ],
   "source": [
    "red_reg2 = LinearRegression()\n",
    "\n",
    "red_X2 = red_train_set[[\"alcohol\", \"volatile acidity\", \"sulphates\", \"chlorides\"]]\n",
    "red_Y2 = red_train_set[\"quality\"]\n",
    "red_reg2.fit(red_X2, red_Y2)"
   ]
  },
  {
   "cell_type": "code",
   "execution_count": 171,
   "metadata": {},
   "outputs": [],
   "source": [
    "fig, axs = plt.subplots(ncols=1,figsize=(10,6))\n",
    "sns.barplot(x='quality', y='volatile acidity', data=red_train_set, ax=axs)\n",
    "plt.title('quality VS volatile acidity')\n",
    "plt.tight_layout()\n",
    "plt.show()"
   ]
  },
  {
   "cell_type": "code",
   "execution_count": 172,
   "metadata": {},
   "outputs": [],
   "source": [
    "fig, axs = plt.subplots(ncols=1,figsize=(10,6))\n",
    "sns.barplot(x='quality', y='sulphates', data=red_train_set, ax=axs)\n",
    "plt.title('quality VS sulphates')\n",
    "plt.tight_layout()\n",
    "plt.show()"
   ]
  },
  {
   "cell_type": "code",
   "execution_count": 173,
   "metadata": {},
   "outputs": [],
   "source": [
    "fig, axs = plt.subplots(ncols=1,figsize=(10,6))\n",
    "sns.barplot(x='quality', y='chlorides', data=red_train_set, ax=axs)\n",
    "plt.title('quality VS chlorides')\n",
    "plt.tight_layout()\n",
    "plt.show()"
   ]
  },
  {
   "cell_type": "markdown",
   "metadata": {},
   "source": [
    "## Round 2 Results"
   ]
  },
  {
   "cell_type": "code",
   "execution_count": 155,
   "metadata": {},
   "outputs": [
    {
     "name": "stdout",
     "output_type": "stream",
     "text": [
      "The R2 score is: 0.34623470873378615\n",
      "Mean Squared Error is:  0.4240279825314856\n"
     ]
    }
   ],
   "source": [
    "print(\"The R2 score is:\", red_reg2.score(red_X2,red_Y2))\n",
    "\n",
    "red_y_pred2 = red_reg2.predict(red_X2)\n",
    "red_mse2 = mean_squared_error(red_Y2, red_y_pred2)\n",
    "print(\"Mean Squared Error is: \",  red_mse2)"
   ]
  },
  {
   "cell_type": "markdown",
   "metadata": {},
   "source": [
    "### Notes: \n",
    "This also got better when using several more parameters. Notice how different parameters made the model get better between the red and white wine data. The R2 score got higher but is still not that good. "
   ]
  },
  {
   "cell_type": "markdown",
   "metadata": {},
   "source": [
    "## Testing White Wine"
   ]
  },
  {
   "cell_type": "code",
   "execution_count": 160,
   "metadata": {},
   "outputs": [
    {
     "data": {
      "text/plain": [
       "LinearRegression(copy_X=True, fit_intercept=True, n_jobs=None,\n",
       "         normalize=False)"
      ]
     },
     "execution_count": 160,
     "metadata": {},
     "output_type": "execute_result"
    }
   ],
   "source": [
    "white_reg3 = LinearRegression()\n",
    "\n",
    "white_X3 = white_test_set[[\"alcohol\", \"volatile acidity\", \"residual sugar\", \"sulphates\"]]\n",
    "white_Y3 = white_test_set[\"quality\"]\n",
    "white_reg3.fit(white_X3, white_Y3)"
   ]
  },
  {
   "cell_type": "code",
   "execution_count": 161,
   "metadata": {},
   "outputs": [
    {
     "name": "stdout",
     "output_type": "stream",
     "text": [
      "The R2 score is: 0.2908622327476922\n",
      "Mean Squared Error is:  0.5450784051448285\n"
     ]
    }
   ],
   "source": [
    "print(\"The R2 score is:\", white_reg3.score(white_X3,white_Y3))\n",
    "\n",
    "white_y_pred3 = white_reg3.predict(white_X3)\n",
    "white_mse3 = mean_squared_error(white_Y3, white_y_pred3)\n",
    "print(\"Mean Squared Error is: \",  white_mse3)"
   ]
  },
  {
   "cell_type": "markdown",
   "metadata": {},
   "source": [
    "## Testing Red Wine"
   ]
  },
  {
   "cell_type": "code",
   "execution_count": 156,
   "metadata": {},
   "outputs": [
    {
     "data": {
      "text/plain": [
       "LinearRegression(copy_X=True, fit_intercept=True, n_jobs=None,\n",
       "         normalize=False)"
      ]
     },
     "execution_count": 156,
     "metadata": {},
     "output_type": "execute_result"
    }
   ],
   "source": [
    "red_reg3 = LinearRegression()\n",
    "\n",
    "red_X3 = red_test_set[[\"alcohol\", \"volatile acidity\", \"sulphates\", \"chlorides\"]]\n",
    "red_Y3 = red_test_set[\"quality\"]\n",
    "red_reg3.fit(red_X3, red_Y3)"
   ]
  },
  {
   "cell_type": "code",
   "execution_count": 157,
   "metadata": {},
   "outputs": [
    {
     "name": "stdout",
     "output_type": "stream",
     "text": [
      "The R2 score is: 0.33885365578048865\n",
      "Mean Squared Error is:  0.43903603770100147\n"
     ]
    }
   ],
   "source": [
    "print(\"The R2 score is:\", red_reg3.score(red_X3,red_Y3))\n",
    "\n",
    "red_y_pred3 = red_reg3.predict(red_X3)\n",
    "red_mse3 = mean_squared_error(red_Y3, red_y_pred3)\n",
    "print(\"Mean Squared Error is: \",  red_mse3)"
   ]
  },
  {
   "cell_type": "markdown",
   "metadata": {},
   "source": [
    "## Overall Results"
   ]
  },
  {
   "cell_type": "markdown",
   "metadata": {},
   "source": [
    "When using the test set the scores were close but none of them were that high. Looking at the MSE the data does not appear to be overfitted because the numbers are very close. After doing some research perhaps using a decision tree or a random forest would be better to predict the quality of wine. The data in this must not be very linear. "
   ]
  },
  {
   "cell_type": "code",
   "execution_count": null,
   "metadata": {},
   "outputs": [],
   "source": []
  }
 ],
 "metadata": {
  "kernelspec": {
   "display_name": "Python 3 (Spyder)",
   "language": "python3",
   "name": "python3"
  },
  "language_info": {
   "codemirror_mode": {
    "name": "ipython",
    "version": 3
   },
   "file_extension": ".py",
   "mimetype": "text/x-python",
   "name": "python",
   "nbconvert_exporter": "python",
   "pygments_lexer": "ipython3",
   "version": "3.7.1"
  }
 },
 "nbformat": 4,
 "nbformat_minor": 2
}
