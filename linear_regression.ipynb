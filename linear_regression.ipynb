{
 "cells": [
  {
   "cell_type": "markdown",
   "metadata": {},
   "source": [
    "# Linear Regression"
   ]
  },
  {
   "cell_type": "markdown",
   "metadata": {},
   "source": [
    "For the linear regression I have split the data set into the white and red wine data sets. The chemical properties should be different between the two types of wine so I felt that it was necessary to do so. "
   ]
  },
  {
   "cell_type": "markdown",
   "metadata": {},
   "source": [
    "## Importing Dataset"
   ]
  },
  {
   "cell_type": "code",
   "execution_count": 1,
   "metadata": {},
   "outputs": [],
   "source": [
    "import pandas as pd\n",
    "white = pd.read_csv(\"white_wine_data.csv\")\n",
    "red = pd.read_csv(\"red_wine_data.csv\")"
   ]
  },
  {
   "cell_type": "code",
   "execution_count": 3,
   "metadata": {},
   "outputs": [
    {
     "name": "stdout",
     "output_type": "stream",
     "text": [
      "<class 'pandas.core.frame.DataFrame'>\n",
      "RangeIndex: 4898 entries, 0 to 4897\n",
      "Data columns (total 13 columns):\n",
      "type                    4898 non-null object\n",
      "fixed acidity           4890 non-null float64\n",
      "volatile acidity        4891 non-null float64\n",
      "citric acid             4896 non-null float64\n",
      "residual sugar          4896 non-null float64\n",
      "chlorides               4896 non-null float64\n",
      "free sulfur dioxide     4898 non-null float64\n",
      "total sulfur dioxide    4898 non-null float64\n",
      "density                 4898 non-null float64\n",
      "pH                      4891 non-null float64\n",
      "sulphates               4896 non-null float64\n",
      "alcohol                 4898 non-null float64\n",
      "quality                 4898 non-null int64\n",
      "dtypes: float64(11), int64(1), object(1)\n",
      "memory usage: 497.5+ KB\n",
      "<class 'pandas.core.frame.DataFrame'>\n",
      "RangeIndex: 1599 entries, 0 to 1598\n",
      "Data columns (total 13 columns):\n",
      "type                    1599 non-null object\n",
      "fixed acidity           1597 non-null float64\n",
      "volatile acidity        1598 non-null float64\n",
      "citric acid             1598 non-null float64\n",
      "residual sugar          1599 non-null float64\n",
      "chlorides               1599 non-null float64\n",
      "free sulfur dioxide     1599 non-null float64\n",
      "total sulfur dioxide    1599 non-null float64\n",
      "density                 1599 non-null float64\n",
      "pH                      1597 non-null float64\n",
      "sulphates               1597 non-null float64\n",
      "alcohol                 1599 non-null float64\n",
      "quality                 1599 non-null int64\n",
      "dtypes: float64(11), int64(1), object(1)\n",
      "memory usage: 162.5+ KB\n"
     ]
    }
   ],
   "source": [
    "white.info()\n",
    "red.info()"
   ]
  },
  {
   "cell_type": "markdown",
   "metadata": {},
   "source": [
    "## Cleaning White Dataset"
   ]
  },
  {
   "cell_type": "code",
   "execution_count": 12,
   "metadata": {},
   "outputs": [
    {
     "name": "stdout",
     "output_type": "stream",
     "text": [
      "<class 'pandas.core.frame.DataFrame'>\n",
      "RangeIndex: 4898 entries, 0 to 4897\n",
      "Data columns (total 13 columns):\n",
      "type                    4898 non-null object\n",
      "fixed acidity           4898 non-null float64\n",
      "volatile acidity        4898 non-null float64\n",
      "citric acid             4898 non-null float64\n",
      "residual sugar          4898 non-null float64\n",
      "chlorides               4898 non-null float64\n",
      "free sulfur dioxide     4898 non-null float64\n",
      "total sulfur dioxide    4898 non-null float64\n",
      "density                 4898 non-null float64\n",
      "pH                      4898 non-null float64\n",
      "sulphates               4898 non-null float64\n",
      "alcohol                 4898 non-null float64\n",
      "quality                 4898 non-null int64\n",
      "dtypes: float64(11), int64(1), object(1)\n",
      "memory usage: 497.5+ KB\n"
     ]
    }
   ],
   "source": [
    "clean_white = white.copy()\n",
    "\n",
    "white_fixed_acidity_mean = clean_white[\"fixed acidity\"].mean()\n",
    "white_volatile_acidity_mean = clean_white[\"volatile acidity\"].mean()\n",
    "white_citric_acid_mean = clean_white[\"citric acid\"].mean()\n",
    "white_chlorides_mean = clean_white[\"chlorides\"].mean()\n",
    "white_residual_sugar_mean = clean_white[\"residual sugar\"].mean()\n",
    "white_pH_mean = clean_white[\"pH\"].mean()\n",
    "white_sulphates_mean = clean_white[\"sulphates\"].mean()\n",
    "\n",
    "clean_white[\"fixed acidity\"].fillna( value=white_fixed_acidity_mean, inplace=True)\n",
    "clean_white[\"volatile acidity\"].fillna( value=white_volatile_acidity_mean, inplace=True)\n",
    "clean_white[\"citric acid\"].fillna( value=white_citric_acid_mean, inplace=True)\n",
    "clean_white[\"residual sugar\"].fillna( value=white_residual_sugar_mean, inplace=True)\n",
    "clean_white[\"chlorides\"].fillna( value=white_chlorides_mean, inplace=True)\n",
    "clean_white[\"pH\"].fillna( value=white_pH_mean, inplace=True)\n",
    "clean_white[\"sulphates\"].fillna( value=white_sulphates_mean, inplace=True)\n",
    "\n",
    "clean_white.info()"
   ]
  },
  {
   "cell_type": "markdown",
   "metadata": {},
   "source": [
    "## Cleaning Red Dataset"
   ]
  },
  {
   "cell_type": "code",
   "execution_count": 13,
   "metadata": {},
   "outputs": [
    {
     "name": "stdout",
     "output_type": "stream",
     "text": [
      "<class 'pandas.core.frame.DataFrame'>\n",
      "RangeIndex: 1599 entries, 0 to 1598\n",
      "Data columns (total 13 columns):\n",
      "type                    1599 non-null object\n",
      "fixed acidity           1599 non-null float64\n",
      "volatile acidity        1599 non-null float64\n",
      "citric acid             1599 non-null float64\n",
      "residual sugar          1599 non-null float64\n",
      "chlorides               1599 non-null float64\n",
      "free sulfur dioxide     1599 non-null float64\n",
      "total sulfur dioxide    1599 non-null float64\n",
      "density                 1599 non-null float64\n",
      "pH                      1599 non-null float64\n",
      "sulphates               1599 non-null float64\n",
      "alcohol                 1599 non-null float64\n",
      "quality                 1599 non-null int64\n",
      "dtypes: float64(11), int64(1), object(1)\n",
      "memory usage: 162.5+ KB\n"
     ]
    }
   ],
   "source": [
    "clean_red = red.copy()\n",
    "\n",
    "red_fixed_acidity_mean = clean_red[\"fixed acidity\"].mean()\n",
    "red_volatile_acidity_mean = clean_red[\"volatile acidity\"].mean()\n",
    "red_citric_acid_mean = clean_red[\"citric acid\"].mean()\n",
    "red_pH_mean = clean_red[\"pH\"].mean()\n",
    "red_sulphates_mean = clean_red[\"sulphates\"].mean()\n",
    "\n",
    "clean_red[\"fixed acidity\"].fillna( value=red_fixed_acidity_mean, inplace=True)\n",
    "clean_red[\"volatile acidity\"].fillna( value=red_volatile_acidity_mean, inplace=True)\n",
    "clean_red[\"citric acid\"].fillna( value=red_citric_acid_mean, inplace=True)\n",
    "clean_red[\"pH\"].fillna( value=red_pH_mean, inplace=True)\n",
    "clean_red[\"sulphates\"].fillna( value=red_sulphates_mean, inplace=True)\n",
    "\n",
    "clean_red.info()"
   ]
  },
  {
   "cell_type": "code",
   "execution_count": null,
   "metadata": {},
   "outputs": [],
   "source": []
  }
 ],
 "metadata": {
  "kernelspec": {
   "display_name": "Python 3 (Spyder)",
   "language": "python3",
   "name": "python3"
  },
  "language_info": {
   "codemirror_mode": {
    "name": "ipython",
    "version": 3
   },
   "file_extension": ".py",
   "mimetype": "text/x-python",
   "name": "python",
   "nbconvert_exporter": "python",
   "pygments_lexer": "ipython3",
   "version": "3.7.1"
  }
 },
 "nbformat": 4,
 "nbformat_minor": 2
}
