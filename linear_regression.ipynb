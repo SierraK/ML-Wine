{
 "cells": [
  {
   "cell_type": "markdown",
   "metadata": {},
   "source": [
    "# Linear Regression"
   ]
  },
  {
   "cell_type": "markdown",
   "metadata": {},
   "source": [
    "For the linear regression I have split the data set into the white and red wine data sets. The chemical properties should be different between the two types of wine so I felt that it was necessary to do so. "
   ]
  },
  {
   "cell_type": "markdown",
   "metadata": {},
   "source": [
    "## Importing Dataset"
   ]
  },
  {
   "cell_type": "code",
   "execution_count": 1,
   "metadata": {},
   "outputs": [],
   "source": [
    "import pandas as pd\n",
    "white = pd.read_csv(\"white_wine_data.csv\")\n",
    "red = pd.read_csv(\"red_wine_data.csv\")"
   ]
  },
  {
   "cell_type": "code",
   "execution_count": 3,
   "metadata": {},
   "outputs": [
    {
     "name": "stdout",
     "output_type": "stream",
     "text": [
      "<class 'pandas.core.frame.DataFrame'>\n",
      "RangeIndex: 4898 entries, 0 to 4897\n",
      "Data columns (total 13 columns):\n",
      "type                    4898 non-null object\n",
      "fixed acidity           4890 non-null float64\n",
      "volatile acidity        4891 non-null float64\n",
      "citric acid             4896 non-null float64\n",
      "residual sugar          4896 non-null float64\n",
      "chlorides               4896 non-null float64\n",
      "free sulfur dioxide     4898 non-null float64\n",
      "total sulfur dioxide    4898 non-null float64\n",
      "density                 4898 non-null float64\n",
      "pH                      4891 non-null float64\n",
      "sulphates               4896 non-null float64\n",
      "alcohol                 4898 non-null float64\n",
      "quality                 4898 non-null int64\n",
      "dtypes: float64(11), int64(1), object(1)\n",
      "memory usage: 497.5+ KB\n",
      "<class 'pandas.core.frame.DataFrame'>\n",
      "RangeIndex: 1599 entries, 0 to 1598\n",
      "Data columns (total 13 columns):\n",
      "type                    1599 non-null object\n",
      "fixed acidity           1597 non-null float64\n",
      "volatile acidity        1598 non-null float64\n",
      "citric acid             1598 non-null float64\n",
      "residual sugar          1599 non-null float64\n",
      "chlorides               1599 non-null float64\n",
      "free sulfur dioxide     1599 non-null float64\n",
      "total sulfur dioxide    1599 non-null float64\n",
      "density                 1599 non-null float64\n",
      "pH                      1597 non-null float64\n",
      "sulphates               1597 non-null float64\n",
      "alcohol                 1599 non-null float64\n",
      "quality                 1599 non-null int64\n",
      "dtypes: float64(11), int64(1), object(1)\n",
      "memory usage: 162.5+ KB\n"
     ]
    }
   ],
   "source": [
    "white.info()\n",
    "red.info()"
   ]
  },
  {
   "cell_type": "markdown",
   "metadata": {},
   "source": [
    "## Cleaning White Dataset"
   ]
  },
  {
   "cell_type": "code",
   "execution_count": 12,
   "metadata": {},
   "outputs": [
    {
     "name": "stdout",
     "output_type": "stream",
     "text": [
      "<class 'pandas.core.frame.DataFrame'>\n",
      "RangeIndex: 4898 entries, 0 to 4897\n",
      "Data columns (total 13 columns):\n",
      "type                    4898 non-null object\n",
      "fixed acidity           4898 non-null float64\n",
      "volatile acidity        4898 non-null float64\n",
      "citric acid             4898 non-null float64\n",
      "residual sugar          4898 non-null float64\n",
      "chlorides               4898 non-null float64\n",
      "free sulfur dioxide     4898 non-null float64\n",
      "total sulfur dioxide    4898 non-null float64\n",
      "density                 4898 non-null float64\n",
      "pH                      4898 non-null float64\n",
      "sulphates               4898 non-null float64\n",
      "alcohol                 4898 non-null float64\n",
      "quality                 4898 non-null int64\n",
      "dtypes: float64(11), int64(1), object(1)\n",
      "memory usage: 497.5+ KB\n"
     ]
    }
   ],
   "source": [
    "clean_white = white.copy()\n",
    "\n",
    "white_fixed_acidity_mean = clean_white[\"fixed acidity\"].mean()\n",
    "white_volatile_acidity_mean = clean_white[\"volatile acidity\"].mean()\n",
    "white_citric_acid_mean = clean_white[\"citric acid\"].mean()\n",
    "white_chlorides_mean = clean_white[\"chlorides\"].mean()\n",
    "white_residual_sugar_mean = clean_white[\"residual sugar\"].mean()\n",
    "white_pH_mean = clean_white[\"pH\"].mean()\n",
    "white_sulphates_mean = clean_white[\"sulphates\"].mean()\n",
    "\n",
    "clean_white[\"fixed acidity\"].fillna( value=white_fixed_acidity_mean, inplace=True)\n",
    "clean_white[\"volatile acidity\"].fillna( value=white_volatile_acidity_mean, inplace=True)\n",
    "clean_white[\"citric acid\"].fillna( value=white_citric_acid_mean, inplace=True)\n",
    "clean_white[\"residual sugar\"].fillna( value=white_residual_sugar_mean, inplace=True)\n",
    "clean_white[\"chlorides\"].fillna( value=white_chlorides_mean, inplace=True)\n",
    "clean_white[\"pH\"].fillna( value=white_pH_mean, inplace=True)\n",
    "clean_white[\"sulphates\"].fillna( value=white_sulphates_mean, inplace=True)\n",
    "\n",
    "clean_white.info()"
   ]
  },
  {
   "cell_type": "markdown",
   "metadata": {},
   "source": [
    "## Cleaning Red Dataset"
   ]
  },
  {
   "cell_type": "code",
   "execution_count": 13,
   "metadata": {},
   "outputs": [
    {
     "name": "stdout",
     "output_type": "stream",
     "text": [
      "<class 'pandas.core.frame.DataFrame'>\n",
      "RangeIndex: 1599 entries, 0 to 1598\n",
      "Data columns (total 13 columns):\n",
      "type                    1599 non-null object\n",
      "fixed acidity           1599 non-null float64\n",
      "volatile acidity        1599 non-null float64\n",
      "citric acid             1599 non-null float64\n",
      "residual sugar          1599 non-null float64\n",
      "chlorides               1599 non-null float64\n",
      "free sulfur dioxide     1599 non-null float64\n",
      "total sulfur dioxide    1599 non-null float64\n",
      "density                 1599 non-null float64\n",
      "pH                      1599 non-null float64\n",
      "sulphates               1599 non-null float64\n",
      "alcohol                 1599 non-null float64\n",
      "quality                 1599 non-null int64\n",
      "dtypes: float64(11), int64(1), object(1)\n",
      "memory usage: 162.5+ KB\n"
     ]
    }
   ],
   "source": [
    "clean_red = red.copy()\n",
    "\n",
    "red_fixed_acidity_mean = clean_red[\"fixed acidity\"].mean()\n",
    "red_volatile_acidity_mean = clean_red[\"volatile acidity\"].mean()\n",
    "red_citric_acid_mean = clean_red[\"citric acid\"].mean()\n",
    "red_pH_mean = clean_red[\"pH\"].mean()\n",
    "red_sulphates_mean = clean_red[\"sulphates\"].mean()\n",
    "\n",
    "clean_red[\"fixed acidity\"].fillna( value=red_fixed_acidity_mean, inplace=True)\n",
    "clean_red[\"volatile acidity\"].fillna( value=red_volatile_acidity_mean, inplace=True)\n",
    "clean_red[\"citric acid\"].fillna( value=red_citric_acid_mean, inplace=True)\n",
    "clean_red[\"pH\"].fillna( value=red_pH_mean, inplace=True)\n",
    "clean_red[\"sulphates\"].fillna( value=red_sulphates_mean, inplace=True)\n",
    "\n",
    "clean_red.info()"
   ]
  },
  {
   "cell_type": "markdown",
   "metadata": {},
   "source": [
    "## Splitting White Dataset"
   ]
  },
  {
   "cell_type": "code",
   "execution_count": 14,
   "metadata": {},
   "outputs": [
    {
     "name": "stdout",
     "output_type": "stream",
     "text": [
      "3918 980\n",
      "       type  fixed acidity   ...     alcohol  quality\n",
      "4120  white            7.4   ...         9.0        5\n",
      "1169  white            7.5   ...         9.6        6\n",
      "1941  white            6.8   ...         9.0        5\n",
      "1971  white            6.3   ...        11.7        7\n",
      "3124  white            6.5   ...         9.2        6\n",
      "\n",
      "[5 rows x 13 columns]\n",
      "       type  fixed acidity   ...     alcohol  quality\n",
      "1088  white            7.4   ...         9.2        6\n",
      "4366  white            5.9   ...        12.6        6\n",
      "92    white            6.9   ...        12.6        7\n",
      "2901  white            6.5   ...        11.9        7\n",
      "2330  white            7.5   ...         9.3        6\n",
      "\n",
      "[5 rows x 13 columns]\n"
     ]
    }
   ],
   "source": [
    "from sklearn.model_selection import train_test_split\n",
    "\n",
    "white_train_set, white_test_set = train_test_split(clean_white, test_size=0.2, random_state=123)\n",
    "print(len(white_train_set), len(white_test_set))\n",
    "print(white_train_set.head())\n",
    "print(white_test_set.head())"
   ]
  },
  {
   "cell_type": "markdown",
   "metadata": {},
   "source": [
    "## Splitting Red Dataset"
   ]
  },
  {
   "cell_type": "code",
   "execution_count": 15,
   "metadata": {},
   "outputs": [
    {
     "name": "stdout",
     "output_type": "stream",
     "text": [
      "1279 320\n",
      "     type  fixed acidity  volatile acidity   ...     sulphates  alcohol  quality\n",
      "1076  red            9.9              0.32   ...          0.73     11.4        6\n",
      "847   red            7.4              0.68   ...          0.70      9.9        6\n",
      "582   red           11.7              0.49   ...          0.43      9.2        5\n",
      "172   red            8.0              0.42   ...          0.61      9.2        6\n",
      "779   red            7.1              0.52   ...          0.60      9.8        5\n",
      "\n",
      "[5 rows x 13 columns]\n",
      "     type  fixed acidity  volatile acidity   ...     sulphates  alcohol  quality\n",
      "912   red           10.0              0.46   ...          0.62     12.2        6\n",
      "772   red            9.5              0.57   ...          0.55      9.4        5\n",
      "1037  red            7.3              0.91   ...          0.56      9.2        5\n",
      "1106  red            8.2              0.23   ...          0.54     12.3        6\n",
      "263   red            7.9              0.37   ...          0.67      9.3        5\n",
      "\n",
      "[5 rows x 13 columns]\n"
     ]
    }
   ],
   "source": [
    "red_train_set, red_test_set = train_test_split(clean_red, test_size=0.2, random_state=123)\n",
    "print(len(red_train_set), len(red_test_set))\n",
    "print(red_train_set.head())\n",
    "print(red_test_set.head())"
   ]
  },
  {
   "cell_type": "code",
   "execution_count": null,
   "metadata": {},
   "outputs": [],
   "source": []
  },
  {
   "cell_type": "code",
   "execution_count": null,
   "metadata": {},
   "outputs": [],
   "source": []
  }
 ],
 "metadata": {
  "kernelspec": {
   "display_name": "Python 3 (Spyder)",
   "language": "python3",
   "name": "python3"
  },
  "language_info": {
   "codemirror_mode": {
    "name": "ipython",
    "version": 3
   },
   "file_extension": ".py",
   "mimetype": "text/x-python",
   "name": "python",
   "nbconvert_exporter": "python",
   "pygments_lexer": "ipython3",
   "version": "3.7.1"
  }
 },
 "nbformat": 4,
 "nbformat_minor": 2
}
